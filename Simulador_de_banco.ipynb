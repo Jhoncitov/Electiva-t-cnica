{
  "nbformat": 4,
  "nbformat_minor": 0,
  "metadata": {
    "colab": {
      "provenance": []
    },
    "kernelspec": {
      "name": "python3",
      "display_name": "Python 3"
    },
    "language_info": {
      "name": "python"
    }
  },
  "cells": [
    {
      "cell_type": "code",
      "execution_count": null,
      "metadata": {
        "id": "wo2re7lKFOm-"
      },
      "outputs": [],
      "source": [
        "\"\"\"\n",
        "=================================================================================================\n",
        "ENCABEZADO DEL MÓDULO\n",
        "=================================================================================================\n",
        "MÓDULO: CuentaBancaria.ipynb\n",
        "ASIGNATURA: Electiva técnica (Ciencia de datos)\n",
        "VERSIÓN: 1.0 16/09/2025\n",
        "\"\"\"\n",
        "class Usuario():\n",
        "\"\"\"\n",
        "Clase que representa al usuario dueño de la cuenta bancaria\n",
        "\"\"\"\n",
        "  def __init__(self, nombre: str, email: str):\n",
        "    \"\"\"\n",
        "    Método para definir los atributos del usuario\n",
        "    \"\"\"\n",
        "      self.nombre = nombre\n",
        "      self.email = email\n",
        "\n",
        "  def registrarse(self):\n",
        "    \"\"\"\n",
        "    Método utilizado para registrar un usuario\n",
        "    \"\"\"\n",
        "    print(f\"El usuario {self.nombre} con email {self.email} se ha registrado correctamente.\")\n",
        "\n",
        "  def set_password(self, password: str):\n",
        "    \"\"\"\n",
        "    Método para establecer una contraseña de ingreso al usuario\n",
        "    \"\"\"\n",
        "    self.password = password\n",
        "    print(f\"La contraseña del usuario {self.nombre} se ha establecido correctamente.\")\n",
        "\n",
        "  def check_password(self, password: str):\n",
        "    if self.password == password:\n",
        "      print(f\"La contraseña del usuario {self.nombre} es correcta.\")\n",
        "    else:\n",
        "        print(f\"La contraseña del usuario {self.nombre} es incorrecta\")\n",
        "\n",
        "\n",
        "class CuentaBancaria():\n",
        "\n",
        "  def __init__(self, numero_cuenta:int, usuario:Usuario):\n",
        "      self.numero_cuenta = numero_cuenta\n",
        "      self.usuario = usuario\n",
        "      self.saldo = 0\n",
        "\n",
        "  def depositar(self, cantidad: float):\n",
        "    self.saldo += cantidad\n",
        "\n",
        "  def retirar(self, cantidad: float):\n",
        "    if self.saldo >= cantidad:\n",
        "      self.saldo -= cantidad\n",
        "    else:\n",
        "      print(\"Saldo insuficiente\")\n",
        "\n",
        "  def consultar_saldo(self):\n",
        "    return print(f\"El saldo de la cuenta {self.numero_cuenta} es de {self.saldo}\")\n",
        "\n",
        "class Banco():\n",
        "  def __init__(self, nombre:str):\n",
        "    self.nombre = nombre\n",
        "    self.cuentas = []\n",
        "\n",
        "  def abrir_cuenta(self, usuario: Usuario):\n",
        "    numero_cuenta = len(self.cuentas) + 1\n",
        "    cuenta = CuentaBancaria(numero_cuenta, usuario)\n",
        "    self.cuentas.append(cuenta)\n",
        "    return cuenta\n",
        "\n",
        "  def buscar_cuenta(self, numero_cuenta: int):\n",
        "    for cuenta in self.cuentas:\n",
        "      if cuenta.numero_cuenta == numero_cuenta:\n",
        "        return cuenta\n",
        "    return None\n",
        "\n",
        "  def realizar_transferencia(self, cuenta_origen: CuentaBancaria, cuenta_destino: CuentaBancaria, cantidad: float):\n",
        "    if cuenta_origen.saldo >= cantidad:\n",
        "      cuenta_origen.retirar(cantidad)\n",
        "      cuenta_destino.depositar(cantidad)\n",
        "      return True\n",
        "    else:\n",
        "      return False"
      ]
    },
    {
      "cell_type": "code",
      "source": [
        "#Registrar 10 usuarios\n",
        "us1 =Usuario( \"Cesar Correa\", \"yotas@gmail.com\")\n",
        "us2 =Usuario( \"Juan Perez\", \"juan@gmail.com\")\n",
        "us3 =Usuario( \"Maria Lopez\", \"maria@gmail.com\")\n",
        "us4 =Usuario( \"Pedro Ramirez\", \"pedro@gmail.com\")\n",
        "us5 =Usuario( \"Ana Martinez\", \"ana@gmail.com\")\n",
        "us6 =Usuario( \"Luis Garcia\", \"luis@gmail.com\")\n",
        "us7 =Usuario( \"Sofia Rodriguez\", \"sofia@gmail.com\")\n",
        "us8 =Usuario( \"Diego Sanchez\", \"diego@gmail.com\")\n",
        "us9 =Usuario( \"Laura Hernandez\", \"laura@gmail.com\")\n",
        "us10 =Usuario( \"Carlos Gonzalez\", \"carlos@gmail.com\")\n",
        "\n",
        "#Abrir cuentas bancarias para ellos\n",
        "banco = Banco(\"Banco de Prueba\")\n",
        "cuenta1 = banco.abrir_cuenta(us1)\n",
        "cuenta2 = banco.abrir_cuenta(us2)\n",
        "cuenta3 = banco.abrir_cuenta(us3)\n",
        "cuenta4 = banco.abrir_cuenta(us4)\n",
        "cuenta5 = banco.abrir_cuenta(us5)\n",
        "cuenta6 = banco.abrir_cuenta(us6)\n",
        "cuenta7 = banco.abrir_cuenta(us7)\n",
        "cuenta8 = banco.abrir_cuenta(us8)\n",
        "cuenta9 = banco.abrir_cuenta(us9)\n",
        "cuenta10 = banco.abrir_cuenta(us10)"
      ],
      "metadata": {
        "id": "_H3E5y2zP7Up"
      },
      "execution_count": null,
      "outputs": []
    },
    {
      "cell_type": "code",
      "source": [
        "# Valores distintos de depósito para cada cuenta\n",
        "depositos = [1000, 2000, 3000, 4000, 5000, 2500, 1500, 3500, 4500, 6000]\n",
        "\n",
        "# Valores distintos de retiro para cada cuenta\n",
        "retiros = [500, 1000, 2000, 1500, 2500, 1000, 500, 1200, 2200, 3000]\n",
        "\n",
        "# Aplicar depósitos\n",
        "for cuenta, monto in zip(banco.cuentas, depositos):\n",
        "    cuenta.depositar(monto)\n",
        "\n",
        "# Aplicar retiros\n",
        "for cuenta, monto in zip(banco.cuentas, retiros):\n",
        "    cuenta.retirar(monto)\n",
        "\n",
        "# Mostrar saldos finales\n",
        "for cuenta in banco.cuentas:\n",
        "    cuenta.consultar_saldo()"
      ],
      "metadata": {
        "colab": {
          "base_uri": "https://localhost:8080/"
        },
        "id": "k-kYGBPiMpQx",
        "outputId": "298be2d6-8436-4107-8bb2-93a7651f1ba8"
      },
      "execution_count": null,
      "outputs": [
        {
          "output_type": "stream",
          "name": "stdout",
          "text": [
            "El saldo de la cuenta 1 es de 500\n",
            "El saldo de la cuenta 2 es de 1000\n",
            "El saldo de la cuenta 3 es de 1000\n",
            "El saldo de la cuenta 4 es de 2500\n",
            "El saldo de la cuenta 5 es de 2500\n",
            "El saldo de la cuenta 6 es de 1500\n",
            "El saldo de la cuenta 7 es de 1000\n",
            "El saldo de la cuenta 8 es de 2300\n",
            "El saldo de la cuenta 9 es de 2300\n",
            "El saldo de la cuenta 10 es de 3000\n"
          ]
        }
      ]
    },
    {
      "cell_type": "code",
      "source": [
        "# Lista de transferencias: (origen, destino, monto)\n",
        "transferencias = [\n",
        "    (1, 2, 500),     # De cuenta 1 a cuenta 2\n",
        "    (2, 3, 1000),    # De cuenta 2 a cuenta 3\n",
        "    (3, 4, 2000),\n",
        "    (4, 5, 1500),\n",
        "    (5, 6, 2500),\n",
        "    (6, 7, 1200),\n",
        "    (7, 8, 800),\n",
        "    (8, 9, 3000),\n",
        "    (9, 10, 1000),\n",
        "    (10, 1, 500)     # De cuenta 10 a cuenta 1\n",
        "]\n",
        "\n",
        "# Ejecutar transferencias con validación de saldo\n",
        "for origen, destino, monto in transferencias:\n",
        "    cuenta_origen = banco.buscar_cuenta(origen)\n",
        "    cuenta_destino = banco.buscar_cuenta(destino)\n",
        "\n",
        "    if cuenta_origen.saldo >= monto:\n",
        "        banco.realizar_transferencia(cuenta_origen, cuenta_destino, monto)\n",
        "        print(f\"Transferencia exitosa de {monto} de cuenta {origen} a cuenta {destino}\")\n",
        "    else:\n",
        "        print(f\"No se pudo transferir {monto} de cuenta {origen} a cuenta {destino} (fondos insuficientes)\")\n",
        "\n"
      ],
      "metadata": {
        "colab": {
          "base_uri": "https://localhost:8080/"
        },
        "id": "IL0-FgjOTNFF",
        "outputId": "c3ae7663-7a08-484a-e3b9-2c8faa5efd96"
      },
      "execution_count": null,
      "outputs": [
        {
          "output_type": "stream",
          "name": "stdout",
          "text": [
            "Transferencia exitosa de 500 de cuenta 1 a cuenta 2\n",
            "Transferencia exitosa de 1000 de cuenta 2 a cuenta 3\n",
            "Transferencia exitosa de 2000 de cuenta 3 a cuenta 4\n",
            "Transferencia exitosa de 1500 de cuenta 4 a cuenta 5\n",
            "Transferencia exitosa de 2500 de cuenta 5 a cuenta 6\n",
            "Transferencia exitosa de 1200 de cuenta 6 a cuenta 7\n",
            "Transferencia exitosa de 800 de cuenta 7 a cuenta 8\n",
            "Transferencia exitosa de 3000 de cuenta 8 a cuenta 9\n",
            "Transferencia exitosa de 1000 de cuenta 9 a cuenta 10\n",
            "Transferencia exitosa de 500 de cuenta 10 a cuenta 1\n"
          ]
        }
      ]
    },
    {
      "cell_type": "code",
      "source": [
        "#Validacion\n",
        "for cuenta in banco.cuentas:\n",
        "  cuenta.consultar_saldo()"
      ],
      "metadata": {
        "colab": {
          "base_uri": "https://localhost:8080/"
        },
        "id": "j8z5TJOKTTl1",
        "outputId": "d32c0ebf-0bfe-4e39-aae5-079a8afdc9c5"
      },
      "execution_count": null,
      "outputs": [
        {
          "output_type": "stream",
          "name": "stdout",
          "text": [
            "El saldo de la cuenta 1 es de 500\n",
            "El saldo de la cuenta 2 es de 500\n",
            "El saldo de la cuenta 3 es de 0\n",
            "El saldo de la cuenta 4 es de 3000\n",
            "El saldo de la cuenta 5 es de 1500\n",
            "El saldo de la cuenta 6 es de 2800\n",
            "El saldo de la cuenta 7 es de 1400\n",
            "El saldo de la cuenta 8 es de 100\n",
            "El saldo de la cuenta 9 es de 4300\n",
            "El saldo de la cuenta 10 es de 3500\n"
          ]
        }
      ]
    }
  ]
}